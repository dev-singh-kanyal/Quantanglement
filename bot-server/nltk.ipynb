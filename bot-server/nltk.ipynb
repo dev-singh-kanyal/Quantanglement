{
 "cells": [
  {
   "cell_type": "code",
   "execution_count": 1,
   "id": "b0966952",
   "metadata": {},
   "outputs": [
    {
     "name": "stdout",
     "output_type": "stream",
     "text": [
      "NLTK imported successfully.\n"
     ]
    }
   ],
   "source": [
    "try:\n",
    "    import nltk\n",
    "except ImportError:\n",
    "    !pip install nltk\n",
    "    import nltk\n",
    "\n",
    "print(\"NLTK imported successfully.\")"
   ]
  },
  {
   "cell_type": "code",
   "execution_count": 3,
   "id": "65ce8753",
   "metadata": {},
   "outputs": [
    {
     "name": "stderr",
     "output_type": "stream",
     "text": [
      "[nltk_data] Downloading package punkt to\n",
      "[nltk_data]     C:\\Users\\devsi\\AppData\\Roaming\\nltk_data...\n",
      "[nltk_data]   Package punkt is already up-to-date!\n",
      "[nltk_data] Downloading package wordnet to\n",
      "[nltk_data]     C:\\Users\\devsi\\AppData\\Roaming\\nltk_data...\n",
      "[nltk_data]   Package wordnet is already up-to-date!\n"
     ]
    },
    {
     "name": "stdout",
     "output_type": "stream",
     "text": [
      "Robo: My name is Robo. I will answer our queries about Chatbots. If you want ot exit, type  Bye!\n",
      "Robo: [113]\n",
      "\n",
      "identical detector efficiency assumption\n",
      "in practice, multiple single-photon detectors are used in quantum key distribution devices, one for alice and one for bob.\n",
      "Robo: Bye! Take care.\n"
     ]
    }
   ],
   "source": [
    "import nltk\n",
    "import numpy as np\n",
    "import random\n",
    "import string\n",
    "from sklearn.feature_extraction.text import TfidfVectorizer  \n",
    "from sklearn.metrics.pairwise import cosine_similarity\n",
    "\n",
    "f = open('chatbot.txt','r',errors='ignore')\n",
    "raw = f.read()\n",
    "raw = raw.lower()\n",
    "\n",
    "nltk.download('punkt') \n",
    "nltk.download('wordnet')\n",
    "\n",
    "sent_tokens = nltk.sent_tokenize(raw) # converts to a list of sentences\n",
    "word_tokens = nltk.word_tokenize(raw) # converts ot a list of words\n",
    "\n",
    "lemmer = nltk.stem.WordNetLemmatizer()\n",
    "# WordNet is a semantically-oriented dictionary of English included in NLTK.\n",
    "\n",
    "remove_punct_dict = dict((ord(punct), None) for punct in string.punctuation)\n",
    "\n",
    "def LemTokens(tokens):\n",
    "    \"\"\"Returns a list of lemmatized tokens using the WordNet dictionary.\"\"\"\n",
    "    return [lemmer.lemmatize(token) for token in tokens]\n",
    "\n",
    "def LemNormalize(text):\n",
    "    return LemTokens(nltk.word_tokenize(text.lower().translate(remove_punct_dict)))\n",
    "\n",
    "GREETING_INPUTS = (\"hello\", \"hi\", \"greetings\", \"sup\", \"what's up\", \"hey\",)\n",
    "GREETING_RESPONSES = [\"hi\", \"hey\", \"*nods\", \"hi there\", \"hello\", \"I am glad! You are talking to me\"]\n",
    "\n",
    "def greeting(sentence):\n",
    "    \"\"\"The Robot greets us using a random greeting\"\"\"\n",
    "\n",
    "    for word in sentence.split():\n",
    "        if word.lower() in GREETING_INPUTS:\n",
    "            return random.choice(GREETING_RESPONSES)\n",
    "\n",
    "\n",
    "def response(user_response):\n",
    "    robo_response = ''\n",
    "    sent_tokens.append(user_response)\n",
    "    TfidfVec = TfidfVectorizer(tokenizer=LemNormalize, stop_words='english')\n",
    "    tfidf = TfidfVec.fit_transform(sent_tokens)\n",
    "    vals = cosine_similarity(tfidf[-1], tfidf)\n",
    "    idx = vals.argsort()[0][-2]\n",
    "    flat = vals.flatten()\n",
    "    flat.sort()\n",
    "    req_tfidf = flat[-2]\n",
    "\n",
    "    if(req_tfidf==0):\n",
    "        robo_response=robo_response+\"I am sorry! I don't understand you. Could you be more specific about your question\"\n",
    "        return robo_response\n",
    "    else:\n",
    "        robo_response = robo_response+sent_tokens[idx]\n",
    "        return robo_response\n",
    "flag = True\n",
    "print(\"Robo: My name is Robo. I will answer our queries about Chatbots. If you want ot exit, type  Bye!\")\n",
    "\n",
    "while(flag==True):\n",
    "    user_response = input()\n",
    "    user_response = user_response.lower()\n",
    "    if(user_response !='bye'):\n",
    "        if (user_response=='thanks' or user_response=='thank you'):\n",
    "            flag=False\n",
    "            print(\"Robo: You are welcome.\")\n",
    "        else:\n",
    "            if (greeting(user_response)!= None):\n",
    "                print(\"Robo: \" + greeting(user_response))\n",
    "            else:\n",
    "                print(\"Robo: \", end=\"\")\n",
    "                print(response(user_response))\n",
    "                sent_tokens.remove(user_response)\n",
    "    else:\n",
    "        flag=False\n",
    "        print(\"Robo: Bye! Take care.\")"
   ]
  }
 ],
 "metadata": {
  "kernelspec": {
   "display_name": "Python 3 (ipykernel)",
   "language": "python",
   "name": "python3"
  },
  "language_info": {
   "codemirror_mode": {
    "name": "ipython",
    "version": 3
   },
   "file_extension": ".py",
   "mimetype": "text/x-python",
   "name": "python",
   "nbconvert_exporter": "python",
   "pygments_lexer": "ipython3",
   "version": "3.11.8"
  }
 },
 "nbformat": 4,
 "nbformat_minor": 5
}
